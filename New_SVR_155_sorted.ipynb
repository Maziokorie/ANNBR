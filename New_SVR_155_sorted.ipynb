{
 "cells": [
  {
   "cell_type": "code",
   "execution_count": 121,
   "id": "2be250e6",
   "metadata": {},
   "outputs": [],
   "source": [
    "import pandas as pd\n",
    "import matplotlib.pyplot as plt\n",
    "import numpy as np"
   ]
  },
  {
   "cell_type": "code",
   "execution_count": 122,
   "id": "4589cd23",
   "metadata": {},
   "outputs": [
    {
     "data": {
      "text/html": [
       "<div>\n",
       "<style scoped>\n",
       "    .dataframe tbody tr th:only-of-type {\n",
       "        vertical-align: middle;\n",
       "    }\n",
       "\n",
       "    .dataframe tbody tr th {\n",
       "        vertical-align: top;\n",
       "    }\n",
       "\n",
       "    .dataframe thead th {\n",
       "        text-align: right;\n",
       "    }\n",
       "</style>\n",
       "<table border=\"1\" class=\"dataframe\">\n",
       "  <thead>\n",
       "    <tr style=\"text-align: right;\">\n",
       "      <th></th>\n",
       "      <th>yCO2</th>\n",
       "      <th>yH2S</th>\n",
       "      <th>yC1</th>\n",
       "      <th>yHC</th>\n",
       "      <th>yN2</th>\n",
       "      <th>TR</th>\n",
       "      <th>MWC7+</th>\n",
       "      <th>xvol.</th>\n",
       "      <th>xint</th>\n",
       "      <th>xC5-C6</th>\n",
       "      <th>Experimental MMP</th>\n",
       "    </tr>\n",
       "  </thead>\n",
       "  <tbody>\n",
       "    <tr>\n",
       "      <th>0</th>\n",
       "      <td>0.000000</td>\n",
       "      <td>0.0</td>\n",
       "      <td>0.000000</td>\n",
       "      <td>0.0</td>\n",
       "      <td>0.000000</td>\n",
       "      <td>0.000000</td>\n",
       "      <td>0.000000</td>\n",
       "      <td>0.000000</td>\n",
       "      <td>0.000000</td>\n",
       "      <td>0.000000</td>\n",
       "      <td>0.000000</td>\n",
       "    </tr>\n",
       "    <tr>\n",
       "      <th>1</th>\n",
       "      <td>0.000000</td>\n",
       "      <td>0.0</td>\n",
       "      <td>0.000000</td>\n",
       "      <td>0.0</td>\n",
       "      <td>0.000000</td>\n",
       "      <td>0.000424</td>\n",
       "      <td>0.060175</td>\n",
       "      <td>0.000000</td>\n",
       "      <td>0.017940</td>\n",
       "      <td>0.000000</td>\n",
       "      <td>0.010395</td>\n",
       "    </tr>\n",
       "    <tr>\n",
       "      <th>2</th>\n",
       "      <td>0.142857</td>\n",
       "      <td>0.0</td>\n",
       "      <td>0.000000</td>\n",
       "      <td>0.0</td>\n",
       "      <td>0.000000</td>\n",
       "      <td>0.000933</td>\n",
       "      <td>0.105881</td>\n",
       "      <td>0.000000</td>\n",
       "      <td>0.025249</td>\n",
       "      <td>0.000425</td>\n",
       "      <td>0.029106</td>\n",
       "    </tr>\n",
       "    <tr>\n",
       "      <th>3</th>\n",
       "      <td>0.142857</td>\n",
       "      <td>0.0</td>\n",
       "      <td>0.000000</td>\n",
       "      <td>0.0</td>\n",
       "      <td>0.000000</td>\n",
       "      <td>0.010178</td>\n",
       "      <td>0.111208</td>\n",
       "      <td>0.004502</td>\n",
       "      <td>0.027021</td>\n",
       "      <td>0.000425</td>\n",
       "      <td>0.046035</td>\n",
       "    </tr>\n",
       "    <tr>\n",
       "      <th>4</th>\n",
       "      <td>0.142857</td>\n",
       "      <td>0.0</td>\n",
       "      <td>0.000000</td>\n",
       "      <td>0.0</td>\n",
       "      <td>0.000000</td>\n",
       "      <td>0.028838</td>\n",
       "      <td>0.132323</td>\n",
       "      <td>0.005232</td>\n",
       "      <td>0.027021</td>\n",
       "      <td>0.001701</td>\n",
       "      <td>0.051084</td>\n",
       "    </tr>\n",
       "    <tr>\n",
       "      <th>...</th>\n",
       "      <td>...</td>\n",
       "      <td>...</td>\n",
       "      <td>...</td>\n",
       "      <td>...</td>\n",
       "      <td>...</td>\n",
       "      <td>...</td>\n",
       "      <td>...</td>\n",
       "      <td>...</td>\n",
       "      <td>...</td>\n",
       "      <td>...</td>\n",
       "      <td>...</td>\n",
       "    </tr>\n",
       "    <tr>\n",
       "      <th>150</th>\n",
       "      <td>1.000000</td>\n",
       "      <td>0.8</td>\n",
       "      <td>0.846296</td>\n",
       "      <td>0.8</td>\n",
       "      <td>0.052632</td>\n",
       "      <td>0.776081</td>\n",
       "      <td>0.578061</td>\n",
       "      <td>0.623996</td>\n",
       "      <td>0.923145</td>\n",
       "      <td>0.500850</td>\n",
       "      <td>0.937927</td>\n",
       "    </tr>\n",
       "    <tr>\n",
       "      <th>151</th>\n",
       "      <td>1.000000</td>\n",
       "      <td>0.9</td>\n",
       "      <td>1.000000</td>\n",
       "      <td>0.8</td>\n",
       "      <td>0.163158</td>\n",
       "      <td>0.776081</td>\n",
       "      <td>0.585616</td>\n",
       "      <td>0.632757</td>\n",
       "      <td>0.923145</td>\n",
       "      <td>0.500850</td>\n",
       "      <td>0.944164</td>\n",
       "    </tr>\n",
       "    <tr>\n",
       "      <th>152</th>\n",
       "      <td>1.000000</td>\n",
       "      <td>0.9</td>\n",
       "      <td>1.000000</td>\n",
       "      <td>0.8</td>\n",
       "      <td>0.226316</td>\n",
       "      <td>0.811705</td>\n",
       "      <td>0.649832</td>\n",
       "      <td>0.649306</td>\n",
       "      <td>0.923145</td>\n",
       "      <td>0.648384</td>\n",
       "      <td>0.986932</td>\n",
       "    </tr>\n",
       "    <tr>\n",
       "      <th>153</th>\n",
       "      <td>1.000000</td>\n",
       "      <td>1.0</td>\n",
       "      <td>1.000000</td>\n",
       "      <td>1.0</td>\n",
       "      <td>0.226316</td>\n",
       "      <td>0.905852</td>\n",
       "      <td>0.714048</td>\n",
       "      <td>0.798369</td>\n",
       "      <td>0.923145</td>\n",
       "      <td>1.000000</td>\n",
       "      <td>0.987823</td>\n",
       "    </tr>\n",
       "    <tr>\n",
       "      <th>154</th>\n",
       "      <td>1.000000</td>\n",
       "      <td>1.0</td>\n",
       "      <td>1.000000</td>\n",
       "      <td>1.0</td>\n",
       "      <td>1.000000</td>\n",
       "      <td>1.000000</td>\n",
       "      <td>1.000000</td>\n",
       "      <td>1.000000</td>\n",
       "      <td>1.000000</td>\n",
       "      <td>1.000000</td>\n",
       "      <td>1.000000</td>\n",
       "    </tr>\n",
       "  </tbody>\n",
       "</table>\n",
       "<p>155 rows × 11 columns</p>\n",
       "</div>"
      ],
      "text/plain": [
       "         yCO2  yH2S       yC1   yHC       yN2         TR     MWC7+     xvol.  \\\n",
       "0    0.000000    0.0  0.000000   0.0  0.000000  0.000000  0.000000  0.000000   \n",
       "1    0.000000    0.0  0.000000   0.0  0.000000  0.000424  0.060175  0.000000   \n",
       "2    0.142857    0.0  0.000000   0.0  0.000000  0.000933  0.105881  0.000000   \n",
       "3    0.142857    0.0  0.000000   0.0  0.000000  0.010178  0.111208  0.004502   \n",
       "4    0.142857    0.0  0.000000   0.0  0.000000  0.028838  0.132323  0.005232   \n",
       "..        ...    ...       ...   ...       ...       ...       ...       ...   \n",
       "150  1.000000    0.8  0.846296   0.8  0.052632  0.776081  0.578061  0.623996   \n",
       "151  1.000000    0.9  1.000000   0.8  0.163158  0.776081  0.585616  0.632757   \n",
       "152  1.000000    0.9  1.000000   0.8  0.226316  0.811705  0.649832  0.649306   \n",
       "153  1.000000    1.0  1.000000   1.0  0.226316  0.905852  0.714048  0.798369   \n",
       "154  1.000000    1.0  1.000000   1.0  1.000000  1.000000  1.000000  1.000000   \n",
       "\n",
       "         xint    xC5-C6  Experimental MMP  \n",
       "0    0.000000  0.000000          0.000000  \n",
       "1    0.017940  0.000000          0.010395  \n",
       "2    0.025249  0.000425          0.029106  \n",
       "3    0.027021  0.000425          0.046035  \n",
       "4    0.027021  0.001701          0.051084  \n",
       "..        ...       ...               ...  \n",
       "150  0.923145  0.500850          0.937927  \n",
       "151  0.923145  0.500850          0.944164  \n",
       "152  0.923145  0.648384          0.986932  \n",
       "153  0.923145  1.000000          0.987823  \n",
       "154  1.000000  1.000000          1.000000  \n",
       "\n",
       "[155 rows x 11 columns]"
      ]
     },
     "execution_count": 122,
     "metadata": {},
     "output_type": "execute_result"
    }
   ],
   "source": [
    "df = pd.read_csv('155 sorted.csv')\n",
    "df"
   ]
  },
  {
   "cell_type": "code",
   "execution_count": 123,
   "id": "ab449601",
   "metadata": {},
   "outputs": [],
   "source": [
    "X = df.iloc[:, [0, 1, 2, 3, 4, 5, 6, 7, 8, 9]].values\n",
    "y = df.iloc[:, 10].values"
   ]
  },
  {
   "cell_type": "code",
   "execution_count": 124,
   "id": "cae5c0d7",
   "metadata": {},
   "outputs": [],
   "source": [
    "from sklearn.model_selection import train_test_split\n",
    "X_train, X_test, y_train, y_test = train_test_split(X, y, test_size=0.35, random_state=42)"
   ]
  },
  {
   "cell_type": "code",
   "execution_count": 125,
   "id": "0114a87c",
   "metadata": {},
   "outputs": [],
   "source": [
    "# from sklearn.preprocessing import StandardScaler\n",
    "# scaler = StandardScaler() \n",
    "# X_train = scaler.fit_transform(X_train)\n",
    "# X_test = scaler.transform(X_test)"
   ]
  },
  {
   "cell_type": "code",
   "execution_count": 126,
   "id": "1eac4eb0",
   "metadata": {},
   "outputs": [
    {
     "data": {
      "text/plain": [
       "SVR(kernel='linear')"
      ]
     },
     "execution_count": 126,
     "metadata": {},
     "output_type": "execute_result"
    }
   ],
   "source": [
    "from sklearn import svm\n",
    "model = svm.SVR(kernel='linear')\n",
    "model.fit(X_train, y_train)"
   ]
  },
  {
   "cell_type": "code",
   "execution_count": 127,
   "id": "ddb24287",
   "metadata": {},
   "outputs": [
    {
     "data": {
      "text/plain": [
       "array([0.39440162, 0.72506868, 0.24214567, 0.23170988, 0.53354453,\n",
       "       0.33748737, 0.41835089, 0.80586537, 1.05776189, 0.35694904,\n",
       "       0.28858758, 0.65125509, 0.39116785, 0.37953287, 0.16906253,\n",
       "       0.19461449, 0.2377967 , 0.41512108, 0.53091756, 0.64434301,\n",
       "       0.19349121, 0.15762094, 0.13591105, 0.21246414, 0.35989763,\n",
       "       0.59736935, 0.42564049, 0.28987096, 0.3977089 , 0.3966764 ,\n",
       "       0.56727209, 0.42815784, 0.54835518, 0.39501723, 0.47481576,\n",
       "       0.35305214, 0.29619956, 0.2232618 , 0.62402266, 0.38558358,\n",
       "       0.31149292, 0.27013965, 0.55967287, 0.20305137, 0.31099205,\n",
       "       0.3976389 , 0.15392561, 0.70752212, 0.35429871, 0.54285637,\n",
       "       0.2263871 , 0.39181536, 0.74364441, 0.28776979, 0.09623531])"
      ]
     },
     "execution_count": 127,
     "metadata": {},
     "output_type": "execute_result"
    }
   ],
   "source": [
    "y_pred = model.predict(X_test)\n",
    "y_pred"
   ]
  },
  {
   "cell_type": "code",
   "execution_count": 128,
   "id": "9bb3903c",
   "metadata": {},
   "outputs": [
    {
     "data": {
      "text/plain": [
       "0.9301580915771495"
      ]
     },
     "execution_count": 128,
     "metadata": {},
     "output_type": "execute_result"
    }
   ],
   "source": [
    "from sklearn.metrics import r2_score\n",
    "r2_score(y_test, y_pred)"
   ]
  },
  {
   "cell_type": "code",
   "execution_count": 129,
   "id": "2d66ddb3",
   "metadata": {},
   "outputs": [
    {
     "name": "stdout",
     "output_type": "stream",
     "text": [
      "Mean Squared Error: 0.003967437424750559\n"
     ]
    }
   ],
   "source": [
    "from sklearn.metrics import mean_squared_error\n",
    "mse = mean_squared_error(y_test,y_pred)\n",
    "print(f\"Mean Squared Error: {mse}\")"
   ]
  },
  {
   "cell_type": "code",
   "execution_count": 130,
   "id": "7e75d59b",
   "metadata": {},
   "outputs": [
    {
     "data": {
      "text/plain": [
       "0.06298759738829986"
      ]
     },
     "execution_count": 130,
     "metadata": {},
     "output_type": "execute_result"
    }
   ],
   "source": [
    "rmse = np.sqrt(mse)\n",
    "rmse"
   ]
  },
  {
   "cell_type": "code",
   "execution_count": 131,
   "id": "3a54d8bd",
   "metadata": {},
   "outputs": [
    {
     "data": {
      "text/plain": [
       "29.929871962365223"
      ]
     },
     "execution_count": 131,
     "metadata": {},
     "output_type": "execute_result"
    }
   ],
   "source": [
    "aape = np.mean(np.abs((y_test - y_pred) / y_test)) * 100\n",
    "aape"
   ]
  },
  {
   "cell_type": "code",
   "execution_count": 132,
   "id": "adc2cbbc",
   "metadata": {},
   "outputs": [
    {
     "data": {
      "text/plain": [
       "-23.484639324144975"
      ]
     },
     "execution_count": 132,
     "metadata": {},
     "output_type": "execute_result"
    }
   ],
   "source": [
    "ape = np.mean(((y_test - y_pred) / y_test)) * 100\n",
    "ape"
   ]
  },
  {
   "cell_type": "code",
   "execution_count": 133,
   "id": "3c9c73d8",
   "metadata": {},
   "outputs": [
    {
     "data": {
      "text/html": [
       "<div>\n",
       "<style scoped>\n",
       "    .dataframe tbody tr th:only-of-type {\n",
       "        vertical-align: middle;\n",
       "    }\n",
       "\n",
       "    .dataframe tbody tr th {\n",
       "        vertical-align: top;\n",
       "    }\n",
       "\n",
       "    .dataframe thead th {\n",
       "        text-align: right;\n",
       "    }\n",
       "</style>\n",
       "<table border=\"1\" class=\"dataframe\">\n",
       "  <thead>\n",
       "    <tr style=\"text-align: right;\">\n",
       "      <th></th>\n",
       "      <th>0</th>\n",
       "      <th>1</th>\n",
       "      <th>2</th>\n",
       "      <th>3</th>\n",
       "      <th>4</th>\n",
       "      <th>5</th>\n",
       "      <th>6</th>\n",
       "      <th>7</th>\n",
       "      <th>8</th>\n",
       "      <th>9</th>\n",
       "    </tr>\n",
       "  </thead>\n",
       "  <tbody>\n",
       "    <tr>\n",
       "      <th>0</th>\n",
       "      <td>0.642857</td>\n",
       "      <td>0.0</td>\n",
       "      <td>0.000000</td>\n",
       "      <td>0.0</td>\n",
       "      <td>0.000000</td>\n",
       "      <td>0.086938</td>\n",
       "      <td>0.214974</td>\n",
       "      <td>0.088951</td>\n",
       "      <td>0.221484</td>\n",
       "      <td>0.139456</td>\n",
       "    </tr>\n",
       "    <tr>\n",
       "      <th>1</th>\n",
       "      <td>1.000000</td>\n",
       "      <td>0.5</td>\n",
       "      <td>0.759259</td>\n",
       "      <td>0.4</td>\n",
       "      <td>0.052632</td>\n",
       "      <td>0.776081</td>\n",
       "      <td>0.555396</td>\n",
       "      <td>0.616817</td>\n",
       "      <td>0.772536</td>\n",
       "      <td>0.475340</td>\n",
       "    </tr>\n",
       "    <tr>\n",
       "      <th>2</th>\n",
       "      <td>1.000000</td>\n",
       "      <td>0.0</td>\n",
       "      <td>0.500000</td>\n",
       "      <td>0.2</td>\n",
       "      <td>0.000000</td>\n",
       "      <td>0.726887</td>\n",
       "      <td>0.540286</td>\n",
       "      <td>0.616817</td>\n",
       "      <td>0.627907</td>\n",
       "      <td>0.431548</td>\n",
       "    </tr>\n",
       "    <tr>\n",
       "      <th>3</th>\n",
       "      <td>1.000000</td>\n",
       "      <td>1.0</td>\n",
       "      <td>1.000000</td>\n",
       "      <td>1.0</td>\n",
       "      <td>1.000000</td>\n",
       "      <td>1.000000</td>\n",
       "      <td>1.000000</td>\n",
       "      <td>1.000000</td>\n",
       "      <td>1.000000</td>\n",
       "      <td>1.000000</td>\n",
       "    </tr>\n",
       "  </tbody>\n",
       "</table>\n",
       "</div>"
      ],
      "text/plain": [
       "          0    1         2    3         4         5         6         7  \\\n",
       "0  0.642857  0.0  0.000000  0.0  0.000000  0.086938  0.214974  0.088951   \n",
       "1  1.000000  0.5  0.759259  0.4  0.052632  0.776081  0.555396  0.616817   \n",
       "2  1.000000  0.0  0.500000  0.2  0.000000  0.726887  0.540286  0.616817   \n",
       "3  1.000000  1.0  1.000000  1.0  1.000000  1.000000  1.000000  1.000000   \n",
       "\n",
       "          8         9  \n",
       "0  0.221484  0.139456  \n",
       "1  0.772536  0.475340  \n",
       "2  0.627907  0.431548  \n",
       "3  1.000000  1.000000  "
      ]
     },
     "execution_count": 133,
     "metadata": {},
     "output_type": "execute_result"
    }
   ],
   "source": [
    "support_vectors = model.support_vectors_\n",
    "sp_155S = pd.DataFrame(support_vectors)\n",
    "sp_155S"
   ]
  },
  {
   "cell_type": "code",
   "execution_count": 134,
   "id": "5d1f2d38",
   "metadata": {},
   "outputs": [],
   "source": [
    "sp_155S = sp_155S.to_csv('SP_155S.csv')"
   ]
  },
  {
   "cell_type": "code",
   "execution_count": 135,
   "id": "4992cc9d",
   "metadata": {},
   "outputs": [
    {
     "data": {
      "text/html": [
       "<div>\n",
       "<style scoped>\n",
       "    .dataframe tbody tr th:only-of-type {\n",
       "        vertical-align: middle;\n",
       "    }\n",
       "\n",
       "    .dataframe tbody tr th {\n",
       "        vertical-align: top;\n",
       "    }\n",
       "\n",
       "    .dataframe thead th {\n",
       "        text-align: right;\n",
       "    }\n",
       "</style>\n",
       "<table border=\"1\" class=\"dataframe\">\n",
       "  <thead>\n",
       "    <tr style=\"text-align: right;\">\n",
       "      <th></th>\n",
       "      <th>0</th>\n",
       "      <th>1</th>\n",
       "      <th>2</th>\n",
       "      <th>3</th>\n",
       "    </tr>\n",
       "  </thead>\n",
       "  <tbody>\n",
       "    <tr>\n",
       "      <th>0</th>\n",
       "      <td>-0.319925</td>\n",
       "      <td>0.27832</td>\n",
       "      <td>0.107011</td>\n",
       "      <td>-0.065406</td>\n",
       "    </tr>\n",
       "  </tbody>\n",
       "</table>\n",
       "</div>"
      ],
      "text/plain": [
       "          0        1         2         3\n",
       "0 -0.319925  0.27832  0.107011 -0.065406"
      ]
     },
     "execution_count": 135,
     "metadata": {},
     "output_type": "execute_result"
    }
   ],
   "source": [
    "dual_coefficients = model.dual_coef_\n",
    "dc_155S = pd.DataFrame(dual_coefficients)\n",
    "dc_155S"
   ]
  },
  {
   "cell_type": "code",
   "execution_count": 136,
   "id": "394a10f3",
   "metadata": {},
   "outputs": [],
   "source": [
    "dc_155S = dc_155S.to_csv('dc_155S.csv')"
   ]
  },
  {
   "cell_type": "code",
   "execution_count": 137,
   "id": "949de335",
   "metadata": {},
   "outputs": [
    {
     "data": {
      "text/plain": [
       "array([[ 0.11425899,  0.07375411,  0.19941667,  0.06732442, -0.05075724,\n",
       "         0.20056442,  0.07821315,  0.14381516,  0.14594105,  0.06845585]])"
      ]
     },
     "execution_count": 137,
     "metadata": {},
     "output_type": "execute_result"
    }
   ],
   "source": [
    "weights = np.dot(dual_coefficients, support_vectors)\n",
    "weights"
   ]
  },
  {
   "cell_type": "code",
   "execution_count": 138,
   "id": "39d89ac5",
   "metadata": {},
   "outputs": [
    {
     "data": {
      "text/plain": [
       "array([0.05896688])"
      ]
     },
     "execution_count": 138,
     "metadata": {},
     "output_type": "execute_result"
    }
   ],
   "source": [
    "intercept = model.intercept_\n",
    "intercept"
   ]
  },
  {
   "cell_type": "code",
   "execution_count": 139,
   "id": "0733c5dd",
   "metadata": {},
   "outputs": [
    {
     "data": {
      "text/plain": [
       "array([-0.05896688])"
      ]
     },
     "execution_count": 139,
     "metadata": {},
     "output_type": "execute_result"
    }
   ],
   "source": [
    "bias = -intercept\n",
    "bias"
   ]
  },
  {
   "cell_type": "code",
   "execution_count": 140,
   "id": "41905cd6",
   "metadata": {},
   "outputs": [
    {
     "data": {
      "text/html": [
       "<div>\n",
       "<style scoped>\n",
       "    .dataframe tbody tr th:only-of-type {\n",
       "        vertical-align: middle;\n",
       "    }\n",
       "\n",
       "    .dataframe tbody tr th {\n",
       "        vertical-align: top;\n",
       "    }\n",
       "\n",
       "    .dataframe thead th {\n",
       "        text-align: right;\n",
       "    }\n",
       "</style>\n",
       "<table border=\"1\" class=\"dataframe\">\n",
       "  <thead>\n",
       "    <tr style=\"text-align: right;\">\n",
       "      <th></th>\n",
       "      <th>Actual Values</th>\n",
       "      <th>Predicted value</th>\n",
       "    </tr>\n",
       "  </thead>\n",
       "  <tbody>\n",
       "    <tr>\n",
       "      <th>0</th>\n",
       "      <td>0.399465</td>\n",
       "      <td>0.394402</td>\n",
       "    </tr>\n",
       "    <tr>\n",
       "      <th>1</th>\n",
       "      <td>0.815860</td>\n",
       "      <td>0.725069</td>\n",
       "    </tr>\n",
       "    <tr>\n",
       "      <th>2</th>\n",
       "      <td>0.133353</td>\n",
       "      <td>0.242146</td>\n",
       "    </tr>\n",
       "    <tr>\n",
       "      <th>3</th>\n",
       "      <td>0.133056</td>\n",
       "      <td>0.231710</td>\n",
       "    </tr>\n",
       "    <tr>\n",
       "      <th>4</th>\n",
       "      <td>0.559252</td>\n",
       "      <td>0.533545</td>\n",
       "    </tr>\n",
       "    <tr>\n",
       "      <th>5</th>\n",
       "      <td>0.294030</td>\n",
       "      <td>0.337487</td>\n",
       "    </tr>\n",
       "    <tr>\n",
       "      <th>6</th>\n",
       "      <td>0.458568</td>\n",
       "      <td>0.418351</td>\n",
       "    </tr>\n",
       "    <tr>\n",
       "      <th>7</th>\n",
       "      <td>0.857440</td>\n",
       "      <td>0.805865</td>\n",
       "    </tr>\n",
       "    <tr>\n",
       "      <th>8</th>\n",
       "      <td>0.987823</td>\n",
       "      <td>1.057762</td>\n",
       "    </tr>\n",
       "    <tr>\n",
       "      <th>9</th>\n",
       "      <td>0.317493</td>\n",
       "      <td>0.356949</td>\n",
       "    </tr>\n",
       "    <tr>\n",
       "      <th>10</th>\n",
       "      <td>0.192753</td>\n",
       "      <td>0.288588</td>\n",
       "    </tr>\n",
       "    <tr>\n",
       "      <th>11</th>\n",
       "      <td>0.714286</td>\n",
       "      <td>0.651255</td>\n",
       "    </tr>\n",
       "    <tr>\n",
       "      <th>12</th>\n",
       "      <td>0.390258</td>\n",
       "      <td>0.391168</td>\n",
       "    </tr>\n",
       "    <tr>\n",
       "      <th>13</th>\n",
       "      <td>0.371844</td>\n",
       "      <td>0.379533</td>\n",
       "    </tr>\n",
       "    <tr>\n",
       "      <th>14</th>\n",
       "      <td>0.102465</td>\n",
       "      <td>0.169063</td>\n",
       "    </tr>\n",
       "    <tr>\n",
       "      <th>15</th>\n",
       "      <td>0.112860</td>\n",
       "      <td>0.194614</td>\n",
       "    </tr>\n",
       "    <tr>\n",
       "      <th>16</th>\n",
       "      <td>0.133353</td>\n",
       "      <td>0.237797</td>\n",
       "    </tr>\n",
       "    <tr>\n",
       "      <th>17</th>\n",
       "      <td>0.449361</td>\n",
       "      <td>0.415121</td>\n",
       "    </tr>\n",
       "    <tr>\n",
       "      <th>18</th>\n",
       "      <td>0.557173</td>\n",
       "      <td>0.530918</td>\n",
       "    </tr>\n",
       "    <tr>\n",
       "      <th>19</th>\n",
       "      <td>0.706267</td>\n",
       "      <td>0.644343</td>\n",
       "    </tr>\n",
       "    <tr>\n",
       "      <th>20</th>\n",
       "      <td>0.112563</td>\n",
       "      <td>0.193491</td>\n",
       "    </tr>\n",
       "    <tr>\n",
       "      <th>21</th>\n",
       "      <td>0.076032</td>\n",
       "      <td>0.157621</td>\n",
       "    </tr>\n",
       "    <tr>\n",
       "      <th>22</th>\n",
       "      <td>0.067716</td>\n",
       "      <td>0.135911</td>\n",
       "    </tr>\n",
       "    <tr>\n",
       "      <th>23</th>\n",
       "      <td>0.119988</td>\n",
       "      <td>0.212464</td>\n",
       "    </tr>\n",
       "    <tr>\n",
       "      <th>24</th>\n",
       "      <td>0.325215</td>\n",
       "      <td>0.359898</td>\n",
       "    </tr>\n",
       "    <tr>\n",
       "      <th>25</th>\n",
       "      <td>0.642115</td>\n",
       "      <td>0.597369</td>\n",
       "    </tr>\n",
       "    <tr>\n",
       "      <th>26</th>\n",
       "      <td>0.463023</td>\n",
       "      <td>0.425640</td>\n",
       "    </tr>\n",
       "    <tr>\n",
       "      <th>27</th>\n",
       "      <td>0.215028</td>\n",
       "      <td>0.289871</td>\n",
       "    </tr>\n",
       "    <tr>\n",
       "      <th>28</th>\n",
       "      <td>0.426492</td>\n",
       "      <td>0.397709</td>\n",
       "    </tr>\n",
       "    <tr>\n",
       "      <th>29</th>\n",
       "      <td>0.417648</td>\n",
       "      <td>0.396676</td>\n",
       "    </tr>\n",
       "    <tr>\n",
       "      <th>30</th>\n",
       "      <td>0.622810</td>\n",
       "      <td>0.567272</td>\n",
       "    </tr>\n",
       "    <tr>\n",
       "      <th>31</th>\n",
       "      <td>0.467478</td>\n",
       "      <td>0.428158</td>\n",
       "    </tr>\n",
       "    <tr>\n",
       "      <th>32</th>\n",
       "      <td>0.600238</td>\n",
       "      <td>0.548355</td>\n",
       "    </tr>\n",
       "    <tr>\n",
       "      <th>33</th>\n",
       "      <td>0.405702</td>\n",
       "      <td>0.395017</td>\n",
       "    </tr>\n",
       "    <tr>\n",
       "      <th>34</th>\n",
       "      <td>0.519454</td>\n",
       "      <td>0.474816</td>\n",
       "    </tr>\n",
       "    <tr>\n",
       "      <th>35</th>\n",
       "      <td>0.307395</td>\n",
       "      <td>0.353052</td>\n",
       "    </tr>\n",
       "    <tr>\n",
       "      <th>36</th>\n",
       "      <td>0.251856</td>\n",
       "      <td>0.296200</td>\n",
       "    </tr>\n",
       "    <tr>\n",
       "      <th>37</th>\n",
       "      <td>0.125928</td>\n",
       "      <td>0.223262</td>\n",
       "    </tr>\n",
       "    <tr>\n",
       "      <th>38</th>\n",
       "      <td>0.690823</td>\n",
       "      <td>0.624023</td>\n",
       "    </tr>\n",
       "    <tr>\n",
       "      <th>39</th>\n",
       "      <td>0.381942</td>\n",
       "      <td>0.385584</td>\n",
       "    </tr>\n",
       "    <tr>\n",
       "      <th>40</th>\n",
       "      <td>0.279477</td>\n",
       "      <td>0.311493</td>\n",
       "    </tr>\n",
       "    <tr>\n",
       "      <th>41</th>\n",
       "      <td>0.173745</td>\n",
       "      <td>0.270140</td>\n",
       "    </tr>\n",
       "    <tr>\n",
       "      <th>42</th>\n",
       "      <td>0.610336</td>\n",
       "      <td>0.559673</td>\n",
       "    </tr>\n",
       "    <tr>\n",
       "      <th>43</th>\n",
       "      <td>0.116127</td>\n",
       "      <td>0.203051</td>\n",
       "    </tr>\n",
       "    <tr>\n",
       "      <th>44</th>\n",
       "      <td>0.269676</td>\n",
       "      <td>0.310992</td>\n",
       "    </tr>\n",
       "    <tr>\n",
       "      <th>45</th>\n",
       "      <td>0.419958</td>\n",
       "      <td>0.397639</td>\n",
       "    </tr>\n",
       "    <tr>\n",
       "      <th>46</th>\n",
       "      <td>0.071874</td>\n",
       "      <td>0.153926</td>\n",
       "    </tr>\n",
       "    <tr>\n",
       "      <th>47</th>\n",
       "      <td>0.799822</td>\n",
       "      <td>0.707522</td>\n",
       "    </tr>\n",
       "    <tr>\n",
       "      <th>48</th>\n",
       "      <td>0.317493</td>\n",
       "      <td>0.354299</td>\n",
       "    </tr>\n",
       "    <tr>\n",
       "      <th>49</th>\n",
       "      <td>0.577666</td>\n",
       "      <td>0.542856</td>\n",
       "    </tr>\n",
       "    <tr>\n",
       "      <th>50</th>\n",
       "      <td>0.131868</td>\n",
       "      <td>0.226387</td>\n",
       "    </tr>\n",
       "    <tr>\n",
       "      <th>51</th>\n",
       "      <td>0.394119</td>\n",
       "      <td>0.391815</td>\n",
       "    </tr>\n",
       "    <tr>\n",
       "      <th>52</th>\n",
       "      <td>0.827146</td>\n",
       "      <td>0.743644</td>\n",
       "    </tr>\n",
       "    <tr>\n",
       "      <th>53</th>\n",
       "      <td>0.185625</td>\n",
       "      <td>0.287770</td>\n",
       "    </tr>\n",
       "    <tr>\n",
       "      <th>54</th>\n",
       "      <td>0.051084</td>\n",
       "      <td>0.096235</td>\n",
       "    </tr>\n",
       "  </tbody>\n",
       "</table>\n",
       "</div>"
      ],
      "text/plain": [
       "    Actual Values  Predicted value\n",
       "0        0.399465         0.394402\n",
       "1        0.815860         0.725069\n",
       "2        0.133353         0.242146\n",
       "3        0.133056         0.231710\n",
       "4        0.559252         0.533545\n",
       "5        0.294030         0.337487\n",
       "6        0.458568         0.418351\n",
       "7        0.857440         0.805865\n",
       "8        0.987823         1.057762\n",
       "9        0.317493         0.356949\n",
       "10       0.192753         0.288588\n",
       "11       0.714286         0.651255\n",
       "12       0.390258         0.391168\n",
       "13       0.371844         0.379533\n",
       "14       0.102465         0.169063\n",
       "15       0.112860         0.194614\n",
       "16       0.133353         0.237797\n",
       "17       0.449361         0.415121\n",
       "18       0.557173         0.530918\n",
       "19       0.706267         0.644343\n",
       "20       0.112563         0.193491\n",
       "21       0.076032         0.157621\n",
       "22       0.067716         0.135911\n",
       "23       0.119988         0.212464\n",
       "24       0.325215         0.359898\n",
       "25       0.642115         0.597369\n",
       "26       0.463023         0.425640\n",
       "27       0.215028         0.289871\n",
       "28       0.426492         0.397709\n",
       "29       0.417648         0.396676\n",
       "30       0.622810         0.567272\n",
       "31       0.467478         0.428158\n",
       "32       0.600238         0.548355\n",
       "33       0.405702         0.395017\n",
       "34       0.519454         0.474816\n",
       "35       0.307395         0.353052\n",
       "36       0.251856         0.296200\n",
       "37       0.125928         0.223262\n",
       "38       0.690823         0.624023\n",
       "39       0.381942         0.385584\n",
       "40       0.279477         0.311493\n",
       "41       0.173745         0.270140\n",
       "42       0.610336         0.559673\n",
       "43       0.116127         0.203051\n",
       "44       0.269676         0.310992\n",
       "45       0.419958         0.397639\n",
       "46       0.071874         0.153926\n",
       "47       0.799822         0.707522\n",
       "48       0.317493         0.354299\n",
       "49       0.577666         0.542856\n",
       "50       0.131868         0.226387\n",
       "51       0.394119         0.391815\n",
       "52       0.827146         0.743644\n",
       "53       0.185625         0.287770\n",
       "54       0.051084         0.096235"
      ]
     },
     "execution_count": 140,
     "metadata": {},
     "output_type": "execute_result"
    }
   ],
   "source": [
    "SVR_155S = pd.DataFrame({'Actual Values': y_test, 'Predicted value': y_pred})\n",
    "SVR_155S"
   ]
  },
  {
   "cell_type": "code",
   "execution_count": 141,
   "id": "46ebde36",
   "metadata": {},
   "outputs": [],
   "source": [
    "SVR_155S = SVR_155S.to_csv('SVR_155S.csv')"
   ]
  },
  {
   "cell_type": "code",
   "execution_count": 142,
   "id": "925a91b5",
   "metadata": {},
   "outputs": [],
   "source": [
    "y_train_pred = model.predict(X_train)"
   ]
  },
  {
   "cell_type": "code",
   "execution_count": 143,
   "id": "e5cbe3f6",
   "metadata": {},
   "outputs": [],
   "source": [
    "# y_train_pred = pd.DataFrame({'Actual Values': y_train, 'Predicted value': y_train_pred})"
   ]
  },
  {
   "cell_type": "code",
   "execution_count": 144,
   "id": "c8a72977",
   "metadata": {},
   "outputs": [],
   "source": [
    "# y_train_pred"
   ]
  },
  {
   "cell_type": "code",
   "execution_count": 145,
   "id": "1a809a82",
   "metadata": {},
   "outputs": [],
   "source": [
    "# TRAIN_SVR_155S = y_train_pred.to_csv('TRAIN_SVR_155S.csv')"
   ]
  },
  {
   "cell_type": "code",
   "execution_count": 146,
   "id": "a13b1bca",
   "metadata": {},
   "outputs": [
    {
     "data": {
      "text/plain": [
       "0.9459822891361725"
      ]
     },
     "execution_count": 146,
     "metadata": {},
     "output_type": "execute_result"
    }
   ],
   "source": [
    "r2_score(y_train, y_train_pred)"
   ]
  },
  {
   "cell_type": "code",
   "execution_count": 147,
   "id": "abb852c4",
   "metadata": {},
   "outputs": [
    {
     "data": {
      "text/plain": [
       "0.0034301193271048746"
      ]
     },
     "execution_count": 147,
     "metadata": {},
     "output_type": "execute_result"
    }
   ],
   "source": [
    "mse = mean_squared_error(y_train, y_train_pred)\n",
    "mse"
   ]
  },
  {
   "cell_type": "code",
   "execution_count": 148,
   "id": "e0f7342e",
   "metadata": {},
   "outputs": [
    {
     "data": {
      "text/plain": [
       "0.058567220585450996"
      ]
     },
     "execution_count": 148,
     "metadata": {},
     "output_type": "execute_result"
    }
   ],
   "source": [
    "rmse = np.sqrt(mse)\n",
    "rmse"
   ]
  },
  {
   "cell_type": "code",
   "execution_count": null,
   "id": "3aa3a03b",
   "metadata": {},
   "outputs": [],
   "source": []
  }
 ],
 "metadata": {
  "kernelspec": {
   "display_name": "Python 3 (ipykernel)",
   "language": "python",
   "name": "python3"
  },
  "language_info": {
   "codemirror_mode": {
    "name": "ipython",
    "version": 3
   },
   "file_extension": ".py",
   "mimetype": "text/x-python",
   "name": "python",
   "nbconvert_exporter": "python",
   "pygments_lexer": "ipython3",
   "version": "3.9.12"
  }
 },
 "nbformat": 4,
 "nbformat_minor": 5
}
